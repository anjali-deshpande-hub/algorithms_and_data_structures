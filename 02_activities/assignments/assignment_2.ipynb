{
 "cells": [
  {
   "cell_type": "markdown",
   "metadata": {},
   "source": [
    "# Practice Interview\n",
    "\n",
    "## Objective\n",
    "\n",
    "_*The partner assignment aims to provide participants with the opportunity to practice coding in an interview context. You will analyze your partner's Assignment 1. Moreover, code reviews are common practice in a software development team. This assignment should give you a taste of the code review process.*_\n",
    "\n",
    "## Group Size\n",
    "\n",
    "Each group should have 2 people. You will be assigned a partner\n",
    "\n",
    "## Part 1:\n",
    "\n",
    "You and your partner must share each other's Assignment 1 submission."
   ]
  },
  {
   "cell_type": "markdown",
   "metadata": {},
   "source": [
    "\n",
    "## Part 2:\n",
    "\n",
    "Create a Jupyter Notebook, create 6 of the following headings, and complete the following for your partner's assignment 1:\n",
    "\n",
    "-   Paraphrase the problem in your own words.\n",
    "\n",
    "Create a function called 'missing_num' that accepts a list of integers in the range [0, n]. For example: Input could be [3, 3, 5, 7] where input is a list of 4 numbers ranging from 0 to 7. The function should return a list of integers that are missing in the input list. If there are no missing numbers, the function should return -1. The input numbers can have duplicates and can be listed in any order. In the example just mentioned, the output will be [0, 1, 2, 4, 6]\n"
   ]
  },
  {
   "cell_type": "markdown",
   "metadata": {},
   "source": [
    "\n",
    "-   Create 1 new example that demonstrates you understand the problem. Trace/walkthrough 1 example that your partner made and explain it.\n"
   ]
  },
  {
   "cell_type": "markdown",
   "metadata": {},
   "source": [
    "*My example:*\n",
    "\n",
    "Input: [0, 20, 10, 16, 0, 10]\n",
    "\n",
    "Output: [1, 2, 3, 4, 5, 6, 7, 8, 9, 11, 12, 13, 14, 15, 17, 18, 19]\n",
    "\n",
    "Input has a list of numbers that range from 0 to 20. It has 0 and 10 in duplicates. The list is in random order. The output has all the numbers from 0 to 20 that are missing in the input list.\n",
    "\n",
    "*Zarrin's example:*\n",
    "\n",
    "print(missing_num([1, 2, 3, 4, 4, 7]))\n",
    "\n",
    "[0, 5, 6]\n",
    "\n",
    "In the example above, the input list is [1, 2, 3, 4, 4, 7]. It is a list of numbers ranging from 0 to 7. It is missing 0, 5 and 6 numbers. Therefore, the output is [0, 5, 6]. Note that the input has number 4 in duplicate."
   ]
  },
  {
   "cell_type": "markdown",
   "metadata": {},
   "source": [
    "\n",
    "-   Copy the solution your partner wrote. \n"
   ]
  },
  {
   "cell_type": "code",
   "execution_count": 106,
   "metadata": {},
   "outputs": [
    {
     "name": "stdout",
     "output_type": "stream",
     "text": [
      "[1]\n",
      "[2, 3, 4]\n",
      "[4, 9]\n",
      "[0, 5, 6]\n"
     ]
    }
   ],
   "source": [
    "from typing import List\n",
    "\n",
    "def missing_num(nums: List[int]) -> List[int]:\n",
    "    n = max(len(nums), max(nums, default=0) + 1) \n",
    "    nums_set = set(nums)\n",
    "    missing_numbers = []\n",
    "    \n",
    "    for num in range(n):\n",
    "        if num not in nums_set:\n",
    "            missing_numbers.append(num)\n",
    "    \n",
    "    return missing_numbers if missing_numbers else [-1]\n",
    "\n",
    "# Example test cases\n",
    "print(missing_num([0, 2]))            # Output: [1]\n",
    "print(missing_num([5, 0, 1]))         # Output: [2, 3, 4]\n",
    "print(missing_num([6, 8, 2, 3, 5, 7, 0, 1, 10]))  # Output: [4, 9]\n",
    "print(missing_num([1, 2, 3, 4, 4, 7])) # Output: [0, 5, 6]"
   ]
  },
  {
   "cell_type": "markdown",
   "metadata": {},
   "source": [
    "\n",
    "-   Explain why their solution works in your own words.\n"
   ]
  },
  {
   "cell_type": "markdown",
   "metadata": {},
   "source": [
    "Consider 'nums' as the input list passed to the 'missing_num' function. The function does the following:\n",
    "\n",
    "1) It sets the variable 'n' to be the maximum between the length of 'nums' list and the maximum number in the 'nums' list plus 1.\n",
    "2) The next step creates a set from the given list of numbers (nums). This eliminates the duplicates and creates a unique entry for each integer.\n",
    "3) The function then generates a range from 0 to n and iterates through the range. If an integer from the range is not found in the set, it adds that integer to the list of missing numbers, which was  initialised to []. If no integers are the found missing, it returns [-1].\n",
    "\n",
    " The code generally functions as intended, but it may encounter issues with certain inputs, as discussed in a following section."
   ]
  },
  {
   "cell_type": "markdown",
   "metadata": {},
   "source": [
    "\n",
    "-   Explain the problem’s time and space complexity in your own words.\n"
   ]
  },
  {
   "cell_type": "code",
   "execution_count": 87,
   "metadata": {},
   "outputs": [
    {
     "name": "stdout",
     "output_type": "stream",
     "text": [
      "Execution time 0.003965900046750903 seconds for 10 numbers\n",
      "Execution time 0.024955700035206974 seconds for 100 numbers\n",
      "Execution time 0.3829333999892697 seconds for 1000 numbers\n",
      "Execution time 1.526007300009951 seconds for 10000 numbers\n"
     ]
    }
   ],
   "source": [
    "# Time the function to see its performance for 10 to 10000 numbers in the input list\n",
    "import timeit\n",
    "for i in range(1, 5):\n",
    "    n = 10 ** i\n",
    "    exec_time = timeit.timeit(f\"missing_num([0, {n}])\", setup='from __main__ import missing_num', number=1000)\n",
    "    print(f\"Execution time {exec_time} seconds for {n} numbers\")"
   ]
  },
  {
   "cell_type": "markdown",
   "metadata": {},
   "source": [
    "If N is the maximum number in the list of numbers provided as input, the time complexity of the function would be O(N). As you can see from the execution times printed above, the timings scale linearly with the increase in N. Time taken to create the set is proportional to the number of elements in 'nums'. Each element needs to be hashed and added to the set which can take O(M) where M is the number of elements in the input lists. Since the function has to allow for duplicates, it is possible that M is not equal to N. Typically M will be smaller than N.\n",
    "\n",
    "Space complexity of storing the set would be O(M) where M is the number if elements in input list. The missing number list (which is the output) depends on how many numbers are missing from the range of 0 to 'N' where 'N' is the maximum number in the input list. In the worst case, the list could be 'N' elements. Considering both set and list, the overall space complexity would be O(M+N)\n",
    "\n"
   ]
  },
  {
   "cell_type": "markdown",
   "metadata": {},
   "source": [
    "\n",
    "-   Critique your partner's solution, including explanation, and if there is anything that should be adjusted.\n"
   ]
  },
  {
   "cell_type": "markdown",
   "metadata": {},
   "source": [
    "### Bug fixes \n",
    "\n",
    "1) The requirement says that the function should return -1 if there are no missing numbers. The coded function returns a list [-1].\n",
    "\n",
    "2) The code generally functions as intended, but it will have issues with following inputs:\n",
    "\n",
    "    * When the number of elements in the list exceeds the maximum number within the list itself. For instance, input of [0, 0, 0, 1] gives [2, 3], which is an incorrect result. In order to correct this issue, the first step should be changed to set the variable 'n' to the maximum number in the 'nums' list plus 1.\n",
    "\n",
    "        Eg: Input is [0, 0, 0, 1], function returns [2, 3]. It should return -1\n",
    "\n",
    "        Input is [1, 2, 2, 2], function returns [0, 3]. It should return [0]\n",
    "\n",
    "        Replace the first line **\"n = max(len(nums), max(nums, default=0) + 1)\"** by **\"n = max(nums, default=0) + 1\"** to fix the problem\n",
    "\n",
    "    * Input is an empty list ([]), function returns [0], it should return -1.\n",
    "\n",
    "        In order to solve the problem, add a new line **\"if not nums: return -1\"** as first line inside the function; and replace last line **\"return missing_numbers if missing_numbers else [-1]\"** by **\"return missing_numbers if missing_numbers else -1\"**\n",
    "\n",
    "### Improvement\n",
    "\n",
    "Using a 'set' data structure to remove duplicates and iterate to find missing numbers is a good approach, as sets efficiently store unique numbers from a list, particularly for smaller lists.\n",
    "\n",
    "Instead of iterating over the list, one can use a 'set' data structure to represent the range of values. By performing a set difference operation, the function can achieve the same results. This approach may offer slightly improved performance for smaller lists of numbers. However, it's important to note that the resulting output will not be sorted. If an unsorted output is acceptable, this solution can be effective. Sorting the result of the set difference operation would sacrifice the efficiency gained in using the set.\n",
    "\n",
    "Example code\n",
    " <pre>\n",
    " def missing_num1(nums: List[int]) -> List[int]:\n",
    "    if not nums: return -1\n",
    "\n",
    "    n = max(nums)\n",
    "    s1 = set(range(n+1))\n",
    "    s2 = set(nums)\n",
    "    missing_nums = list(s1 - s2) # result is not sorted\n",
    "    return missing_nums if missing_nums else -1\n",
    "\n",
    "\n",
    "Performance timings with the above piece of code:\n",
    "Execution time 0.00372769997920841 seconds for 10 numbers\n",
    "Execution time 0.010107700014486909 seconds for 100 numbers\n",
    "Execution time 0.10239070001989603 seconds for 1000 numbers\n",
    "Execution time 1.1625077000353485 seconds for 10000 numbers\n",
    "\n",
    " </pre>"
   ]
  },
  {
   "cell_type": "markdown",
   "metadata": {},
   "source": [
    "\n",
    "## Part 3:\n",
    "\n",
    "Please write a 200 word reflection documenting your process from assignment 1, and your presentation and review experience with your partner at the bottom of the Jupyter Notebook under a new heading \"Reflection.\" Again, export this Notebook as pdf.\n"
   ]
  },
  {
   "cell_type": "markdown",
   "metadata": {},
   "source": [
    "### Reflection"
   ]
  },
  {
   "cell_type": "markdown",
   "metadata": {},
   "source": [
    "For Assignment 1, my task was to implement a function that generates all root-to-leaf paths in a tree. This involved developing a method using Depth-First Search (DFS) and returned paths in list of lists format. Firstly, I defined a TreeNode class that represented nodes in a tree. Each node could have multiple children, allowing for a flexible tree structure. The desired method within TreeNode class used recursive DFS to explore the tree from the root node down to each leaf node. During traversal, I collected paths by appending node values to a path list until a leaf node was reached, at which point the complete path was added to the paths list.  I tested the method with different tree configurations including balanced and unbalanced trees. An alternate method using Breadth-First Search approach using a queue was also proposed. This exercise enhanced my understanding of recursive algorithms and tree traversal techniques. \n",
    "\n",
    "In Assignment 2, I performed code review of Zarrin's implementation for finding missing numbers within a specified range [0, n], i.e, reviewing a function that identifies and returns missing numbers from a list, considering duplicates. I reviewed the code for performance optimizations, edge case handling, and adherence to problem requirements. I used timeit function to measure the function's execution time for different input sizes, ensuring it operated efficiently. I provided constructive feedback on handling edge cases like empty lists or duplicates, and ensuring the function's output met expected results. I proposed a solution which could be potentially faster. For both the assignments, the Big(O) notation for time and space complexity analysis was also performed. "
   ]
  },
  {
   "cell_type": "markdown",
   "metadata": {},
   "source": [
    "\n",
    "## Evaluation Criteria\n",
    "\n",
    "We are looking for the similar points as Assignment 1\n",
    "\n",
    "-   Problem is accurately stated\n",
    "\n",
    "-   New example is correct and easily understandable\n",
    "\n",
    "-   Correctness, time, and space complexity of the coding solution\n",
    "\n",
    "-   Clarity in explaining why the solution works, its time and space complexity\n",
    "\n",
    "-   Quality of critique of your partner's assignment, if necessary\n"
   ]
  },
  {
   "cell_type": "markdown",
   "metadata": {},
   "source": [
    "## Submission Information\n",
    "\n",
    "🚨 **Please review our [Assignment Submission Guide](https://github.com/UofT-DSI/onboarding/blob/main/onboarding_documents/submissions.md)** 🚨 for detailed instructions on how to format, branch, and submit your work. Following these guidelines is crucial for your submissions to be evaluated correctly.\n",
    "\n",
    "### Submission Parameters:\n",
    "* Submission Due Date: `HH:MM AM/PM - DD/MM/YYYY`\n",
    "* The branch name for your repo should be: `assignment-2`\n",
    "* What to submit for this assignment:\n",
    "    * This Jupyter Notebook (assignment_2.ipynb) should be populated and should be the only change in your pull request.\n",
    "* What the pull request link should look like for this assignment: `https://github.com/<your_github_username>/algorithms_and_data_structures/pull/<pr_id>`\n",
    "    * Open a private window in your browser. Copy and paste the link to your pull request into the address bar. Make sure you can see your pull request properly. This helps the technical facilitator and learning support staff review your submission easily.\n",
    "\n",
    "Checklist:\n",
    "- [ ] Created a branch with the correct naming convention.\n",
    "- [ ] Ensured that the repository is public.\n",
    "- [ ] Reviewed the PR description guidelines and adhered to them.\n",
    "- [ ] Verify that the link is accessible in a private browser window.\n",
    "\n",
    "If you encounter any difficulties or have questions, please don't hesitate to reach out to our team via our Slack at `#cohort-3-help`. Our Technical Facilitators and Learning Support staff are here to help you navigate any challenges.\n"
   ]
  }
 ],
 "metadata": {
  "kernelspec": {
   "display_name": "base",
   "language": "python",
   "name": "python3"
  },
  "language_info": {
   "codemirror_mode": {
    "name": "ipython",
    "version": 3
   },
   "file_extension": ".py",
   "mimetype": "text/x-python",
   "name": "python",
   "nbconvert_exporter": "python",
   "pygments_lexer": "ipython3",
   "version": "3.12.2"
  }
 },
 "nbformat": 4,
 "nbformat_minor": 2
}
