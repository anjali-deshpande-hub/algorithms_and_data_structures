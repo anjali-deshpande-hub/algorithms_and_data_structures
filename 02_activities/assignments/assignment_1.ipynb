{
 "cells": [
  {
   "cell_type": "markdown",
   "metadata": {},
   "source": [
    "# Coding Problems\n",
    "\n",
    "## Objective\n",
    "\n",
    "This assignment aims to demonstrate how to study a data structures or algorithms question in depth to prepare for an industry coding interview. Leetcode is a popular coding practice site that many use to practice for technical interviews. Like behavioral interviews, it's important to practice and keep your skills sharp.\n",
    "\n",
    "## Group Size\n",
    "\n",
    "Please complete this individually.\n",
    "\n",
    "## Part 1:\n",
    "\n",
    "_*You will be assigned one of three problems based of your first name. Execute the code below, and that will tell you your assigned problem. Include the output as part of your submission (do not clear the output). The problems are based-off problems from Leetcode.*_\n"
   ]
  },
  {
   "cell_type": "code",
   "execution_count": 131,
   "metadata": {},
   "outputs": [
    {
     "name": "stdout",
     "output_type": "stream",
     "text": [
      "2\n"
     ]
    }
   ],
   "source": [
    "print((hash('Anjali') % 3) + 1)"
   ]
  },
  {
   "cell_type": "markdown",
   "metadata": {},
   "source": [
    "<details>\n",
    "  <summary>Question 1</summary>\n",
    "\n",
    "  # Question One: Check Duplicates in Tree\n",
    "\n",
    "  Given the `root` of a binary tree, check whether it is contains a duplicate value. If a duplicate exists, return the duplicate value. If there are multiple duplicates, return the one with the closest distance to the root. If no duplicate exists, return -1.\n",
    "\n",
    "  ## Examples\n",
    "\n",
    "  ### Example 1\n",
    "\n",
    "  ![](./images/q1_ex1.png)\n",
    "\n",
    "  Input: `root = [1, 2, 2, 3, 5, 6, 7]` *What traversal method is this?*\n",
    "\n",
    "  Output: 2\n",
    "\n",
    "  ### Example 2\n",
    "\n",
    "  ![](./images/q1_ex2.png)\n",
    "\n",
    "  Input: `root = [1, 10, 2, 3, 10, 12, 12]`\n",
    "\n",
    "  Output: 10\n",
    "\n",
    "  ### Example 3\n",
    "\n",
    "  ![](./images/q1_ex3.png)\n",
    "\n",
    "  Input: `root = [10, 9, 8, 7]`\n",
    "\n",
    "  Output: -1\n",
    "\n",
    "</details>\n",
    "\n",
    "#### Starter Code for Question 1"
   ]
  },
  {
   "cell_type": "code",
   "execution_count": 132,
   "metadata": {},
   "outputs": [],
   "source": [
    "# Definition for a binary tree node.\n",
    "# class TreeNode(object):\n",
    "#     def __init__(self, val = 0, left = None, right = None):\n",
    "#         self.val = val\n",
    "#         self.left = left\n",
    "#         self.right = right\n",
    "#def is_symmetric(root: TreeNode) -> int:\n",
    "  # TODO"
   ]
  },
  {
   "cell_type": "markdown",
   "metadata": {},
   "source": [
    "<details>\n",
    "  <summary>Question 2</summary>\n",
    "\n",
    "  # Question Two: Path to Leaves\n",
    "\n",
    "  Given the `root` of a binary tree, return all root to leaf paths in any order.\n",
    "\n",
    "  ## Examples\n",
    "\n",
    "  ### Example 1\n",
    "\n",
    "  ![](./images/q1_ex1.png)\n",
    "\n",
    "  Input: `root = [1, 2, 2, 3, 5, 6, 7]` *What traversal method is this?*\n",
    "\n",
    "  Output: [[1, 2, 3], [1, 2, 5], [1, 2, 6], [1, 2, 7]]\n",
    "\n",
    "  ### Example 2\n",
    "\n",
    "  ![](./images/q1_ex3.png)\n",
    "\n",
    "  Input: `root = [10, 9, 8, 7]`\n",
    "\n",
    "  Output: [[10, 7], [10, 9, 8]]\n",
    "\n",
    "</details>\n",
    "\n",
    "#### Starter Code for Question 2"
   ]
  },
  {
   "cell_type": "code",
   "execution_count": 133,
   "metadata": {},
   "outputs": [],
   "source": [
    "# Definition for a binary tree node.\n",
    "# class TreeNode(object):\n",
    "#     def __init__(self, val = 0, left = None, right = None):\n",
    "#         self.val = val\n",
    "#         self.left = left\n",
    "#         self.right = right\n",
    "# def bt_path(root: TreeNode) -> List[List[int]]:\n",
    "# TODO   "
   ]
  },
  {
   "cell_type": "markdown",
   "metadata": {},
   "source": [
    "<details>\n",
    "  <summary>Question 3</summary>\n",
    "\n",
    "  # Question Three: Missing Number in Range\n",
    " \n",
    "  You are given a list containing `n` integers in the range `[0, n]`. Return a list of numbers that are missing from the range `[0, n]` of the array. If there is no missing number, return -1. Note, all the integers in the list may not be unique.\n",
    "  \n",
    "  ## Examples\n",
    "\n",
    "  ### Example 1\n",
    "\n",
    "  Input: `lst = [0, 2]`\n",
    "\n",
    "  Output: [1]\n",
    "\n",
    "  ### Example 2\n",
    "\n",
    "  Input: `lst = [5, 0, 1]`\n",
    "\n",
    "  Output: [2, 3, 4]\n",
    "\n",
    "  ### Example 3\n",
    "\n",
    "  Input: `lst = [6, 8, 2, 3, 5, 7, 0, 1, 10]`\n",
    "\n",
    "  Output: [4, 9]\n",
    "\n",
    "</details>\n",
    "\n",
    "#### Starter Code for Question 3\n"
   ]
  },
  {
   "cell_type": "code",
   "execution_count": 134,
   "metadata": {},
   "outputs": [],
   "source": [
    "#def missing_num(nums: List) -> int:\n",
    "  # TODO"
   ]
  },
  {
   "cell_type": "markdown",
   "metadata": {},
   "source": [
    "\n",
    "## Part 2:\n",
    "\n",
    "-   Paraphrase the problem in your own words\n"
   ]
  },
  {
   "cell_type": "markdown",
   "metadata": {},
   "source": [
    "The problem is to find and list all possible paths from root node to leaf nodes within a tree structure. Each path is represented as a sequence of node values from root to the deepest leaf. A leaf node is a node that has no children or no branching to other nodes."
   ]
  },
  {
   "cell_type": "markdown",
   "metadata": {},
   "source": [
    "\n",
    "-   In the .md file containing your problem, there are examples that illustrate how the code should work. Create 2 new examples that demonstrate you understand the problem.\n"
   ]
  },
  {
   "cell_type": "markdown",
   "metadata": {},
   "source": [
    "Example 3 (balanced)\n",
    "<pre>\n",
    "1\n",
    "|----2\n",
    "|    |----4\n",
    "|    |    |----8\n",
    "|    |    |----9\n",
    "|    |\n",
    "|    |----5\n",
    "|         |----10\n",
    "|         |----11\n",
    "|\n",
    "|----3\n",
    "     |----6\n",
    "     |    |----12\n",
    "     |    |----13\n",
    "     |\n",
    "     |----7\n",
    "          |----14\n",
    "          |----15\n",
    "</pre>\n",
    "\n",
    "Answer: [[1, 2, 4, 8], [1, 2, 4, 9], [1, 2, 5, 10], [1, 2, 5, 11], [1, 3, 6, 12], [1, 3, 6, 13], [1, 3, 7, 14], [1, 3, 7, 15]]\n",
    "\n",
    "Example 4 (imbalanced)\n",
    "<pre>\n",
    "1\n",
    "|----2\n",
    "|    |----4\n",
    "|         |----5\n",
    "|              |----6\n",
    "|                   |----7\n",
    "|                        |----8\n",
    "|\n",
    "|----3\n",
    "    \n",
    "</pre>\n",
    "\n",
    "Answer: [[1, 2, 4, 5, 6, 7, 8], [1, 3]]"
   ]
  },
  {
   "cell_type": "markdown",
   "metadata": {},
   "source": [
    "\n",
    "-   Code the solution to your assigned problem in Python (code chunk). Try to find the best time and space complexity solution!\n"
   ]
  },
  {
   "cell_type": "code",
   "execution_count": 135,
   "metadata": {},
   "outputs": [
    {
     "name": "stdout",
     "output_type": "stream",
     "text": [
      "[[1, 2, 3], [1, 2, 5], [1, 2, 6], [1, 2, 7]]\n",
      "[[10, 9, 8], [10, 7]]\n",
      "[[1, 2, 4, 8], [1, 2, 4, 9], [1, 2, 5, 10], [1, 2, 5, 11], [1, 3, 6, 12], [1, 3, 6, 13], [1, 3, 7, 14], [1, 3, 7, 15]]\n",
      "[[1, 2, 4, 5, 6, 7, 8], [1, 3]]\n"
     ]
    }
   ],
   "source": [
    "from typing import List\n",
    "\n",
    "class TreeNode():\n",
    "    \n",
    "    \"\"\"\n",
    "    The TreeNode class is a node of a tree. \n",
    "\n",
    "    Attributes:\n",
    "    'val'    - integer (node value)    \n",
    "    'children' - list of TreeNode objects that are children. The constructor allowd for\n",
    "    number of children to be more than two. If we want to restrict the number of children \n",
    "    to 2 (binary tree), a validation can be added to the constructor\n",
    "\n",
    "    Methods:\n",
    "    \n",
    "    \"\"\"\n",
    "\n",
    "    def __init__(self, val:int = 0, children:List = []):\n",
    "        self.val = val        \n",
    "        self.children = children\n",
    "        \n",
    "        \n",
    "    # The 'paths' variable is the main list that contains the lists of paths to the leaf. It is the\n",
    "    # return value of this function. The individual paths are constructed from self (eg: root) to \n",
    "    # its leaves.\n",
    "    def find_paths_to_root(self) -> List[List[int]]:\n",
    "        \n",
    "        paths = []\n",
    "    \n",
    "        # Helper function to construct each path from self until its leaves.\n",
    "        # Append val into path. As soon as you reach a node that has no children, reverse \n",
    "        # and append the invidual path to 'paths'\n",
    "        def dfs(node, path):\n",
    "            path.append(node.val)\n",
    "            \n",
    "            # If you get to node with no children, you have reached leaf. Append individual path to the paths\n",
    "            if not node.children:\n",
    "                paths.append(path)\n",
    "                       \n",
    "            # Recursively traverse each child node for path\n",
    "            for child in node.children:                \n",
    "                dfs(child, path[:])\n",
    "                \n",
    "        \n",
    "        dfs(self, [])  # Start DFS from the current node (self)\n",
    "        return paths         \n",
    "\n",
    "\n",
    "# testing example 1\n",
    "root = TreeNode(1, \n",
    "                   [TreeNode(2,  \n",
    "                                [TreeNode(3), TreeNode(5)]), \n",
    "                    TreeNode(2, \n",
    "                                [TreeNode(6), TreeNode(7)])\n",
    "                    ]\n",
    "                ) \n",
    "paths = root.find_paths_to_root()\n",
    "print(paths)\n",
    "\n",
    "\n",
    "# testing example 2\n",
    "root = TreeNode(10, \n",
    "                    [TreeNode(9,  \n",
    "                                [TreeNode(8)]), \n",
    "                     TreeNode(7)]\n",
    "        )  \n",
    "paths = root.find_paths_to_root()\n",
    "print(paths)\n",
    "\n",
    "# testing example 3\n",
    "root = TreeNode(1, \n",
    "                [TreeNode(2, [TreeNode(4,\n",
    "                                        [TreeNode(8), TreeNode(9)]),\n",
    "                              TreeNode(5, \n",
    "                                        [TreeNode(10), TreeNode(11)])]), \n",
    "                 TreeNode(3, [TreeNode(6, \n",
    "                                        [TreeNode(12), TreeNode(13)]), \n",
    "                              TreeNode(7, \n",
    "                                        [TreeNode(14), TreeNode(15)])])]) \n",
    "paths = root.find_paths_to_root()\n",
    "print(paths)\n",
    "\n",
    "# testing example 4\n",
    "root = TreeNode(1, \n",
    "                [TreeNode(2, \n",
    "                          [TreeNode(4, \n",
    "                                      [TreeNode(5, \n",
    "                                                  [TreeNode(6, \n",
    "                                                               [TreeNode(7, \n",
    "                                                                           [TreeNode(8)])])])])]\n",
    "                          ), \n",
    "                 TreeNode(3)])\n",
    "paths = root.find_paths_to_root()\n",
    "print(paths)\n",
    "#help(root)\n"
   ]
  },
  {
   "cell_type": "markdown",
   "metadata": {},
   "source": [
    "\n",
    "-   Explain why your solution works\n"
   ]
  },
  {
   "cell_type": "markdown",
   "metadata": {},
   "source": [
    "The class TreeNode has three attributes: val (int value), and children (list of TreeNode child objects). This class allows for any list of children for a node. A Binary tree where number of children is two, can be added as a validation step in the constructor, if required.\n",
    "\n",
    "The 'find_paths_to_root' method for a TreeNode object, returns the paths from the object to its leaves as List[List[int]]. \n",
    "\n",
    "1) Firstly, it creates empty list named 'paths'. This is list of list of paths from self (root) to leaf node. The first example where self (root node) is 1, the list of list of paths is [[1, 2, 3], [1, 2, 5], [1, 2, 6], [1, 2, 7]]. The 'paths' variable is the return value of the method.\n",
    "\n",
    "2) Helper method 'dfs' is used to recursuively explore the tree from current node to its children.\n",
    "The 'path' variable stores individual path from current node to the leaf. As soon as a node that has no children is reached, the base case for recursion is reached, and the 'path' is stored in 'paths'."
   ]
  },
  {
   "cell_type": "markdown",
   "metadata": {},
   "source": [
    "\n",
    "-   Explain the problem’s time and space complexity\n"
   ]
  },
  {
   "cell_type": "markdown",
   "metadata": {},
   "source": [
    "Time complexity of getting the list of paths is O(N) where N is the total number of the nodes of the tree. Each node and edge is visited once during the Depth First Search in the dfs method. \n",
    "\n",
    "Space complexity is O(N). In each recursive call, a new 'path' list is created. It is created every time a new node is parsed and edge is passed. The max number of 'path' lists will be the max number of nodes in the tree. Therefore it is O(N)"
   ]
  },
  {
   "cell_type": "markdown",
   "metadata": {},
   "source": [
    "\n",
    "-   Explain the thinking to an alternative solution (no coding required, but a classmate reading this should be able to code it up based off your text)\n"
   ]
  },
  {
   "cell_type": "code",
   "execution_count": 136,
   "metadata": {},
   "outputs": [
    {
     "name": "stdout",
     "output_type": "stream",
     "text": [
      "[[1, 2, 3], [1, 2, 5], [1, 2, 6], [1, 2, 7]]\n"
     ]
    }
   ],
   "source": [
    "class Node:\n",
    "    def __init__(self, val=0, left=None, right=None):\n",
    "        self.val = val\n",
    "        self.left = left\n",
    "        self.right = right\n",
    "\n",
    "    def def_path(self):\n",
    "        paths = []\n",
    "\n",
    "        def dfs(node, path):\n",
    "            if not node:\n",
    "                return\n",
    "\n",
    "            path.append(node.val)\n",
    "            if not node.left and not node.right:                \n",
    "                paths.append(path)\n",
    "            else:\n",
    "                dfs(node.left, path[:])\n",
    "                dfs(node.right, path[:])            \n",
    "\n",
    "        dfs(self, [])\n",
    "        return paths    \n",
    "    \n",
    "\n",
    "\n",
    "# testing example 1\n",
    "root = Node(1)\n",
    "root.left = Node(2)\n",
    "root.right = Node(2)\n",
    "root.left.left = Node(3)\n",
    "root.left.right = Node(5)\n",
    "root.right.left = Node(6)\n",
    "root.right.right = Node(7)\n",
    "\n",
    "paths = root.def_path()\n",
    "print(paths)\n",
    "\n"
   ]
  },
  {
   "cell_type": "markdown",
   "metadata": {},
   "source": [
    "## Evaluation Criteria\n",
    "\n",
    "-   Problem is accurately stated\n",
    "\n",
    "-   Two examples are correct and easily understandable\n",
    "\n",
    "-   Correctness, time, and space complexity of the coding solution\n",
    "\n",
    "-   Clarity in explaining why the solution works, its time and space complexity\n",
    "\n",
    "-   Clarity in the proposal to the alternative solution"
   ]
  },
  {
   "cell_type": "markdown",
   "metadata": {},
   "source": [
    "## Submission Information\n",
    "\n",
    "🚨 **Please review our [Assignment Submission Guide](https://github.com/UofT-DSI/onboarding/blob/main/onboarding_documents/submissions.md)** 🚨 for detailed instructions on how to format, branch, and submit your work. Following these guidelines is crucial for your submissions to be evaluated correctly.\n",
    "\n",
    "### Submission Parameters:\n",
    "* Submission Due Date: `HH:MM AM/PM - DD/MM/YYYY`\n",
    "* The branch name for your repo should be: `assignment-1`\n",
    "* What to submit for this assignment:\n",
    "    * This Jupyter Notebook (assignment_1.ipynb) should be populated and should be the only change in your pull request.\n",
    "* What the pull request link should look like for this assignment: `https://github.com/<your_github_username>/algorithms_and_data_structures/pull/<pr_id>`\n",
    "    * Open a private window in your browser. Copy and paste the link to your pull request into the address bar. Make sure you can see your pull request properly. This helps the technical facilitator and learning support staff review your submission easily.\n",
    "\n",
    "Checklist:\n",
    "- [ ] Create a branch called `assignment-1`.\n",
    "- [ ] Ensure that the repository is public.\n",
    "- [ ] Review [the PR description guidelines](https://github.com/UofT-DSI/onboarding/blob/main/onboarding_documents/submissions.md#guidelines-for-pull-request-descriptions) and adhere to them.\n",
    "- [ ] Verify that the link is accessible in a private browser window.\n",
    "\n",
    "If you encounter any difficulties or have questions, please don't hesitate to reach out to our team via our Slack at `#cohort-3-help`. Our Technical Facilitators and Learning Support staff are here to help you navigate any challenges."
   ]
  }
 ],
 "metadata": {
  "kernelspec": {
   "display_name": "Python 3",
   "language": "python",
   "name": "python3"
  },
  "language_info": {
   "codemirror_mode": {
    "name": "ipython",
    "version": 3
   },
   "file_extension": ".py",
   "mimetype": "text/x-python",
   "name": "python",
   "nbconvert_exporter": "python",
   "pygments_lexer": "ipython3",
   "version": "3.12.2"
  }
 },
 "nbformat": 4,
 "nbformat_minor": 2
}
